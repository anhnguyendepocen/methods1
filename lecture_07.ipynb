{
 "cells": [
  {
   "cell_type": "markdown",
   "metadata": {},
   "source": [
    "# Happy Birthday\n",
    "###It's in the public domain now!"
   ]
  },
  {
   "cell_type": "code",
   "execution_count": 1,
   "metadata": {
    "collapsed": false
   },
   "outputs": [
    {
     "name": "stdout",
     "output_type": "stream",
     "text": [
      "Happy birthday to you\n",
      "Happy birthday to you\n",
      "Happy birthday dear Anelise\n",
      "Happy birthday to you\n"
     ]
    }
   ],
   "source": [
    "#singBirthday v1.0\n",
    "def singBirthday():\n",
    "    print \"Happy birthday to you\"\n",
    "    print \"Happy birthday to you\"\n",
    "    print \"Happy birthday dear Anelise\"\n",
    "    print \"Happy birthday to you\"\n",
    "\n",
    "singBirthday()"
   ]
  },
  {
   "cell_type": "code",
   "execution_count": 2,
   "metadata": {
    "collapsed": false
   },
   "outputs": [
    {
     "name": "stdout",
     "output_type": "stream",
     "text": [
      "Happy birthday to you\n",
      "Happy birthday to you\n",
      "Happy birthday dear Anelise\n",
      "Happy birthday to you\n"
     ]
    }
   ],
   "source": [
    "#singBirthday v2.0\n",
    "def happy():\n",
    "    print \"Happy birthday to you\"\n",
    "def singBirthday():\n",
    "    happy()\n",
    "    happy()\n",
    "    print \"Happy birthday dear Anelise\"\n",
    "    happy()\n",
    "\n",
    "singBirthday()"
   ]
  },
  {
   "cell_type": "code",
   "execution_count": 3,
   "metadata": {
    "collapsed": false
   },
   "outputs": [
    {
     "name": "stdout",
     "output_type": "stream",
     "text": [
      "Happy birthday to you\n",
      "Happy birthday to you\n",
      "Happy birthday dear Anelise\n",
      "Happy birthday to you\n",
      "\n",
      "Happy birthday to you\n",
      "Happy birthday to you\n",
      "Happy birthday dear Piers\n",
      "Happy birthday to you\n"
     ]
    }
   ],
   "source": [
    "#singBirthday v3.0\n",
    "def happy():\n",
    "    print \"Happy birthday to you\"\n",
    "    \n",
    "def singBirthday(person):\n",
    "    happy()\n",
    "    happy()\n",
    "    print \"Happy birthday dear \"+person\n",
    "    happy()\n",
    "\n",
    "def main():\n",
    "    singBirthday(\"Anelise\")\n",
    "    print\n",
    "    singBirthday(\"Piers\")\n",
    "main()"
   ]
  },
  {
   "cell_type": "markdown",
   "metadata": {},
   "source": [
    "# Return"
   ]
  },
  {
   "cell_type": "code",
   "execution_count": 6,
   "metadata": {
    "collapsed": false
   },
   "outputs": [
    {
     "name": "stdout",
     "output_type": "stream",
     "text": [
      "6\n"
     ]
    }
   ],
   "source": [
    "## What's wrong with this code?  How can we fix it?\n",
    "\n",
    "def sumNumbers(first, second):\n",
    "    result = first + second\n",
    "    return result\n",
    "\n",
    "def main():\n",
    "    first_num = 2\n",
    "    second_num = 4\n",
    "    final = sumNumbers(first_num, second_num)\n",
    "    print final\n",
    "\n",
    "main()"
   ]
  },
  {
   "cell_type": "markdown",
   "metadata": {},
   "source": [
    "# Practice - Pizza"
   ]
  },
  {
   "cell_type": "code",
   "execution_count": null,
   "metadata": {
    "collapsed": false
   },
   "outputs": [],
   "source": [
    "## pizzaArea.py \n",
    "## This program calculates the cost per square inch of a pizza\n",
    "\n",
    "import math\n",
    "\n",
    "## Calculates the area of a pizza, given it's diameter\n",
    "def pizzaArea(d):\n",
    "    r = float(d) / 2\n",
    "    pi = math.pi\n",
    "    square_inches = (r**2) * pi\n",
    "    return square_inches\n",
    "\n",
    "\n",
    "## This function calculates cost per square inch\n",
    "## Takes (square inches, cost) as arguments\n",
    "## Returns cost per square inch\n",
    "def squareInchCost(square_inches, cost):\n",
    "    total = float(cost)/square_inches\n",
    "    return total\n",
    "    \n",
    "### Diameter and cost are set in the main\n",
    "def main():\n",
    "    diameter = 18.0\n",
    "    cost = 24.00\n",
    "    sq_inches = pizzaArea(diameter)\n",
    "    result = squareInchCost(sq_inches, cost)\n",
    "    print \"You paid $%0.2f per square inch of pizza.\" %(result)\n",
    "\n",
    "main()"
   ]
  },
  {
   "cell_type": "markdown",
   "metadata": {},
   "source": [
    "# Immutable Types vs. Mutable Types"
   ]
  },
  {
   "cell_type": "code",
   "execution_count": 8,
   "metadata": {
    "collapsed": false
   },
   "outputs": [
    {
     "name": "stdout",
     "output_type": "stream",
     "text": [
      "1050.0\n"
     ]
    }
   ],
   "source": [
    "##### Addint Interest 1.0\n",
    "### This program demonstrates interest accumulation w/ an immutable type\n",
    "\n",
    "## Adds interest rate to original balence\n",
    "def addInterest(balance, rate):\n",
    "    newBalance = balance * (1 + rate)\n",
    "    balance = newBalance\n",
    "    return balance\n",
    "\n",
    "## Tests function on a set amount and interest rate\n",
    "def test():\n",
    "    amount = 1000\n",
    "    rate = 0.05\n",
    "    amount = addInterest(amount, rate)\n",
    "    print amount\n",
    "\n",
    "test()\n",
    "\n"
   ]
  },
  {
   "cell_type": "code",
   "execution_count": 9,
   "metadata": {
    "collapsed": false
   },
   "outputs": [
    {
     "name": "stdout",
     "output_type": "stream",
     "text": [
      "[1050.0, 2310.0, 840.0, 378.0]\n"
     ]
    }
   ],
   "source": [
    "###### Adding Interest v2.0\n",
    "######    Illustrates modification of a mutable parameter (list)\n",
    "\n",
    "\n",
    "## Adds interest to original balances\n",
    "## Note:  This code is for a list of balances\n",
    "def addInterest(balances, rate):\n",
    "    for i in range(len(balances)):\n",
    "        balances[i] = balances[i] * (1+rate)\n",
    "\n",
    "## Tests code on a set list of balances and a set rate\n",
    "def test():\n",
    "    amounts = [1000, 2200, 800, 360]\n",
    "    rate = 0.05\n",
    "    addInterest(amounts, 0.05)\n",
    "    print amounts\n",
    "\n",
    "test()\n"
   ]
  }
 ],
 "metadata": {
  "kernelspec": {
   "display_name": "Python 2",
   "language": "python",
   "name": "python2"
  },
  "language_info": {
   "codemirror_mode": {
    "name": "ipython",
    "version": 2
   },
   "file_extension": ".py",
   "mimetype": "text/x-python",
   "name": "python",
   "nbconvert_exporter": "python",
   "pygments_lexer": "ipython2",
   "version": "2.7.7"
  }
 },
 "nbformat": 4,
 "nbformat_minor": 0
}
