{
 "cells": [
  {
   "cell_type": "markdown",
   "metadata": {},
   "source": [
    "# Classes:  Multi-Sided Dice!"
   ]
  },
  {
   "cell_type": "markdown",
   "metadata": {},
   "source": [
    "### Code along with me - let's set up this problem"
   ]
  },
  {
   "cell_type": "code",
   "execution_count": null,
   "metadata": {
    "collapsed": false
   },
   "outputs": [],
   "source": [
    "### This code WILL NOT RUN:  Just a template to show you how to set things up\n",
    "\n",
    "## Import statements at the top of your code \n",
    "from random import randrange\n",
    "\n",
    "\n",
    "## Define classes before defining functions\n",
    "class Die:\n",
    "    \n",
    "    \n",
    "    \n",
    "    \n",
    "    \n",
    "def main():\n",
    "\n",
    "    \n",
    "    \n",
    "    \n",
    "    \n",
    "    \n",
    "    \n",
    "main()"
   ]
  },
  {
   "cell_type": "markdown",
   "metadata": {},
   "source": [
    "### Here is the final version of the multi-sided dice problem"
   ]
  },
  {
   "cell_type": "code",
   "execution_count": null,
   "metadata": {
    "collapsed": false,
    "scrolled": true
   },
   "outputs": [],
   "source": [
    "from random import randrange\n",
    "class Die:\n",
    "    def __init__(self, sides):\n",
    "        self.sides = sides\n",
    "        self.value = 1\n",
    "\n",
    "    def roll(self):\n",
    "        self.value = randrange(1, self.sides+1)\n",
    "\n",
    "    def getValue(self):\n",
    "        return self.value\n",
    "\n",
    "    def setValue(self, value):\n",
    "        self.value = value\n",
    "    \n",
    "    def getSides(self):\n",
    "        return self.sides\n",
    "\n",
    "\n",
    "def main():\n",
    "    d20 = Die(20)\n",
    "    for i in range(5):\n",
    "        d20.roll()\n",
    "        print d20.getValue()\n",
    "\n",
    "main()\n"
   ]
  },
  {
   "cell_type": "markdown",
   "metadata": {},
   "source": [
    "# Classes:  Students"
   ]
  },
  {
   "cell_type": "code",
   "execution_count": null,
   "metadata": {
    "collapsed": false
   },
   "outputs": [],
   "source": [
    "class Student:\n",
    "    def __init__(self, name, hours, qpoints):\n",
    "        self.name = name\n",
    "        self.hours = float(hours)\n",
    "        self.qpoints = float(qpoints)\n",
    "\n",
    "    def getName(self):\n",
    "        return self.name\n",
    "\n",
    "    def getHours(self):\n",
    "        return self.hours\n",
    "\n",
    "    def getQPoints(self):\n",
    "        return self.qpoints\n",
    "\n",
    "    def gpa(self):\n",
    "        return self.qpoints/self.hours\n",
    "    \n",
    "def makeStudents():\n",
    "    henry = Student(\"Henry\", 127, 288)\n",
    "    print henry.gpa()\n",
    "\n",
    "makeStudents()\n"
   ]
  }
 ],
 "metadata": {
  "kernelspec": {
   "display_name": "Python 2",
   "language": "python",
   "name": "python2"
  },
  "language_info": {
   "codemirror_mode": {
    "name": "ipython",
    "version": 2
   },
   "file_extension": ".py",
   "mimetype": "text/x-python",
   "name": "python",
   "nbconvert_exporter": "python",
   "pygments_lexer": "ipython2",
   "version": "2.7.7"
  }
 },
 "nbformat": 4,
 "nbformat_minor": 0
}
