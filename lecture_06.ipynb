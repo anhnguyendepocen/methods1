{
 "cells": [
  {
   "cell_type": "markdown",
   "metadata": {},
   "source": [
    "# Graphics and Objects"
   ]
  },
  {
   "cell_type": "code",
   "execution_count": null,
   "metadata": {
    "collapsed": true
   },
   "outputs": [],
   "source": [
    "from graphics import *\n",
    "## will crash if not using win.close()\n",
    "\n",
    "\n",
    "def drawStuff():\n",
    "    \n",
    "    win = GraphWin()\n",
    "    p = Point(50, 60)\n",
    "    p.getX()\n",
    "    p.getY()\n",
    "    p.draw(win)\n",
    "    p2 = Point(140, 100)\n",
    "    p2.draw(win)\n",
    "   ### Avoid terrible crashing with the following code ###\n",
    "    c = win.getMouse()\n",
    "    if c:\n",
    "        win.close()\n",
    "drawStuff()\n"
   ]
  },
  {
   "cell_type": "code",
   "execution_count": null,
   "metadata": {
    "collapsed": false
   },
   "outputs": [],
   "source": [
    "#from graphics import *\n",
    "\n",
    "def drawMore():\n",
    "    win = GraphWin('Shapes')\n",
    "     ### Draw a red circle centered at \n",
    "    ### point (100, 100), radius 30\n",
    "    center = Point(100, 100)\n",
    "    circ = Circle(center, 30)\n",
    "    circ.setFill('red')\n",
    "    circ.draw(win)\n",
    "\n",
    "    \n",
    "    ### Put a textual label in the \n",
    "    ### center of the circle\n",
    "    label = Text(center, \"Red Circle!!!!\")\n",
    "    label.draw(win)\n",
    "    ### Draw square using Rectangle object\n",
    "    rect = Rectangle(Point(30, 30), Point(80, 70))\n",
    "    rect.setFill(\"purple\")\n",
    "    rect.draw(win)\n",
    "    ### Draw a line segment using a Line object\n",
    "    line = Line(Point(20, 30), Point(180, 165))\n",
    "    line.draw(win)\n",
    "    ### Draw an oval using the Oval object\n",
    "    oval = Oval(Point(20, 150), Point(180, 199))\n",
    "    oval.setFill(\"peachpuff\")\n",
    "    oval.draw(win)\n",
    "\n",
    " ####Avoid terrible crashing with the following code!\n",
    "    p= win.getMouse()\n",
    "    if p:\n",
    "        win.close()\n",
    "drawMore()"
   ]
  },
  {
   "cell_type": "markdown",
   "metadata": {},
   "source": [
    "# Eye Example"
   ]
  },
  {
   "cell_type": "code",
   "execution_count": null,
   "metadata": {
    "collapsed": false
   },
   "outputs": [],
   "source": [
    "#import graphics\n",
    "def drawEye():\n",
    "    win = GraphWin(\"EYE\")\n",
    "    leftEye = Circle(Point(80,50), 5)\n",
    "    leftEye.setFill('yellow')\n",
    "    leftEye.setOutline('red')\n",
    "    leftEye.draw(win)\n",
    "    rightEye = leftEye.clone()\n",
    "    rightEye.move(20,0)\n",
    "    rightEye.draw(win)\n",
    "    p = win.getMouse()\n",
    "    if p:\n",
    "        win.close()\n",
    "drawEye()"
   ]
  },
  {
   "cell_type": "markdown",
   "metadata": {},
   "source": [
    "# Triangle Example"
   ]
  },
  {
   "cell_type": "code",
   "execution_count": null,
   "metadata": {
    "collapsed": false
   },
   "outputs": [],
   "source": [
    "###NB:  If your kernel crashes and needs to restart, don't forget to reimport graphics!\n",
    "#from graphics import *\n",
    "\n",
    "def drawTriangle():\n",
    "    win = GraphWin(\"Triangle Time!\")\n",
    "    win.setCoords(0.0, 0.0, 10.0, 10.0)\n",
    "    message = Text(Point(5, 0.5), \"Click three points\")\n",
    "    message.draw(win)\n",
    "    p1 = win.getMouse()\n",
    "    p1.draw(win)\n",
    "    p2 = win.getMouse()\n",
    "    p2.draw(win)\n",
    "    p3 = win.getMouse()\n",
    "    p3.draw(win)\n",
    "    triangle = Polygon(p1,p2,p3)\n",
    "    triangle.setFill(\"peachpuff\")\n",
    "    triangle.setOutline(\"cyan\")\n",
    "    triangle.draw(win)\n",
    "    message.setText(\"Click anywhere to quit\")\n",
    "    c = win.getMouse()\n",
    "    if c:\n",
    "        win.close()\n",
    "drawTriangle()"
   ]
  },
  {
   "cell_type": "markdown",
   "metadata": {},
   "source": [
    "# Practice: Moving Circle\n"
   ]
  },
  {
   "cell_type": "code",
   "execution_count": null,
   "metadata": {
    "collapsed": false
   },
   "outputs": [],
   "source": [
    "def drawMovingCircle():\n",
    "    win = GraphWin()\n",
    "    shape = Circle(Point(50,50),20)\n",
    "    shape.setOutline(\"green\")\n",
    "    shape.setFill(\"purple\")\n",
    "    shape.draw(win)\n",
    "    for i in range(5):\n",
    "        p = win.getMouse()\n",
    "        c = shape.getCenter()\n",
    "        dx = p.getX() - c.getX()\n",
    "        dy = p.getY() - c.getY()\n",
    "        shape.move(dx,dy)\n",
    "    win.close()\n",
    "drawMovingCircle()\n",
    "    \n"
   ]
  }
 ],
 "metadata": {
  "kernelspec": {
   "display_name": "Python 2",
   "language": "python",
   "name": "python2"
  },
  "language_info": {
   "codemirror_mode": {
    "name": "ipython",
    "version": 2
   },
   "file_extension": ".py",
   "mimetype": "text/x-python",
   "name": "python",
   "nbconvert_exporter": "python",
   "pygments_lexer": "ipython2",
   "version": "2.7.7"
  }
 },
 "nbformat": 4,
 "nbformat_minor": 0
}
