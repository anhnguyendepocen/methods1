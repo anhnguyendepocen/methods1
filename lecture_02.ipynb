{
 "metadata": {
  "name": "",
  "signature": "sha256:ce83ed693e7a226eb20d4c8d20f8ce9b9d4f37e5bf64e397f6a01c75a99dde30"
 },
 "nbformat": 3,
 "nbformat_minor": 0,
 "worksheets": [
  {
   "cells": [
    {
     "cell_type": "heading",
     "level": 4,
     "metadata": {},
     "source": [
      "Example:  Convert Temperature"
     ]
    },
    {
     "cell_type": "code",
     "collapsed": false,
     "input": [
      "def convert():\n",
      "    ## Temp Convert Code\n",
      "    \"\"\"Converts temperature from Celsius to Fahrenheit\"\"\"\n",
      "    celsius = input(\"Enter the Celsius temperature: \")\n",
      "    fahrenheit = (9.0 / 5.0)*celsius + 32\n",
      "    print \"It is\",fahrenheit, \"degress Fahrenheit.\"\n",
      "    \n",
      "\n",
      "\n",
      "#convert()"
     ],
     "language": "python",
     "metadata": {},
     "outputs": [],
     "prompt_number": 7
    },
    {
     "cell_type": "heading",
     "level": 4,
     "metadata": {},
     "source": [
      "Naming Variables"
     ]
    },
    {
     "cell_type": "code",
     "collapsed": false,
     "input": [
      "x = 5\n",
      "print x\n",
      "spam = \"SPAM\"\n",
      "print spam"
     ],
     "language": "python",
     "metadata": {},
     "outputs": [
      {
       "output_type": "stream",
       "stream": "stdout",
       "text": [
        "5\n",
        "SPAM\n"
       ]
      }
     ],
     "prompt_number": 10
    },
    {
     "cell_type": "heading",
     "level": 4,
     "metadata": {},
     "source": [
      "Playing around with print"
     ]
    },
    {
     "cell_type": "code",
     "collapsed": false,
     "input": [
      "print 3+4\n",
      "print 3, 4, 3+4\n",
      "print\n",
      "print 3,4,\n",
      "print 3+4\n",
      "print \"the answer is\", 3+4\n",
      "### print(3+4)"
     ],
     "language": "python",
     "metadata": {},
     "outputs": [
      {
       "output_type": "stream",
       "stream": "stdout",
       "text": [
        "7\n",
        "3 4 7\n",
        "\n",
        "3 4 7\n",
        "the answer is 7\n"
       ]
      }
     ],
     "prompt_number": 11
    },
    {
     "cell_type": "heading",
     "level": 4,
     "metadata": {},
     "source": [
      "Input"
     ]
    },
    {
     "cell_type": "code",
     "collapsed": false,
     "input": [
      "##NB:  Numeric\n",
      "def inp():\n",
      "    x = input(\"Enter something:\")\n",
      "    print x\n",
      "inp()"
     ],
     "language": "python",
     "metadata": {},
     "outputs": [
      {
       "name": "stdout",
       "output_type": "stream",
       "stream": "stdout",
       "text": [
        "Enter something:3+7\n"
       ]
      },
      {
       "output_type": "stream",
       "stream": "stdout",
       "text": [
        "10\n"
       ]
      }
     ],
     "prompt_number": 15
    },
    {
     "cell_type": "markdown",
     "metadata": {},
     "source": [
      "Write a function called breakfast that does the following:\n",
      "\n",
      "Asks a user to input the number of eggs and number of bacon strips they would like\n",
      "\n",
      "Prints out their order \u2013 e.g. \u201cYou ordered 2 eggs and 3 strips of bacon.\u201d"
     ]
    },
    {
     "cell_type": "code",
     "collapsed": false,
     "input": [
      "def breakfast():\n",
      "    eggs, bacon = input(\"Enter # of eggs followed by # of bacon slices:\")\n",
      "    print \"You have ordered\", eggs, \"eggs and\", bacon, \"slices of bacon.\"\n",
      "\n",
      "breakfast()"
     ],
     "language": "python",
     "metadata": {},
     "outputs": [
      {
       "name": "stdout",
       "output_type": "stream",
       "stream": "stdout",
       "text": [
        "Enter # of eggs followed by # of bacon slices:3,4\n"
       ]
      },
      {
       "output_type": "stream",
       "stream": "stdout",
       "text": [
        "You have ordered 3 eggs and 4 slices of bacon.\n"
       ]
      }
     ],
     "prompt_number": 18
    },
    {
     "cell_type": "code",
     "collapsed": false,
     "input": [
      "def futval():\n",
      "    print \"This program calculates future value\"\n",
      "    principal = input(\"Enter the principal amount: \")\n",
      "    apr = input(\"Enter the annual interest rate: \")\n",
      "\n",
      "    for i in range(10):\n",
      "        principal = principal * (1+apr)\n",
      "\n",
      "    print \"The value in 10 years is:\", principal\n",
      "\n",
      "futval()"
     ],
     "language": "python",
     "metadata": {},
     "outputs": [
      {
       "output_type": "stream",
       "stream": "stdout",
       "text": [
        "This program calculates future value\n"
       ]
      },
      {
       "name": "stdout",
       "output_type": "stream",
       "stream": "stdout",
       "text": [
        "Enter the principal amount: 100\n"
       ]
      },
      {
       "name": "stdout",
       "output_type": "stream",
       "stream": "stdout",
       "text": [
        "Enter the annual interest rate: .10\n"
       ]
      },
      {
       "output_type": "stream",
       "stream": "stdout",
       "text": [
        "The value in 10 years is: 259.37424601\n"
       ]
      }
     ],
     "prompt_number": 4
    },
    {
     "cell_type": "code",
     "collapsed": false,
     "input": [
      "# quadratic.py\n",
      "#    A program that computes the real roots of a quadratic equation.\n",
      "#    Illustrates use of the math library.\n",
      "#    Note: This program crashes if the equation has no real roots.\n",
      "## NB:  3, 4, -1\n",
      "\n",
      "import math  # Makes the math library available.\n",
      "\n",
      "def quadratic():\n",
      "    print \"This program finds the real solutions to a quadratic\"\n",
      "    print\n",
      "\n",
      "    a, b, c = input(\"Please enter the coefficients (a, b, c): \")\n",
      "\n",
      "    discRoot = math.sqrt(b * b - 4 * a * c)\n",
      "    root1 = (-b + discRoot) / (2 * a)\n",
      "    root2 = (-b - discRoot) / (2 * a)\n",
      "\n",
      "    print\n",
      "    print \"The solutions are:\", root1, \", \", root2 \n",
      "\n",
      "#quadratic()"
     ],
     "language": "python",
     "metadata": {},
     "outputs": [],
     "prompt_number": 4
    },
    {
     "cell_type": "heading",
     "level": 3,
     "metadata": {},
     "source": [
      "Factorials"
     ]
    },
    {
     "cell_type": "code",
     "collapsed": false,
     "input": [
      "def fact():\n",
      "    fact = 1\n",
      "    for factor in [6,5,4,3,2,1]:\n",
      "        fact = factor * fact\n",
      "        print fact\n",
      "\n",
      "fact()"
     ],
     "language": "python",
     "metadata": {},
     "outputs": [
      {
       "output_type": "stream",
       "stream": "stdout",
       "text": [
        "6\n",
        "30\n",
        "120\n",
        "360\n",
        "720\n",
        "720\n"
       ]
      }
     ],
     "prompt_number": 10
    },
    {
     "cell_type": "code",
     "collapsed": false,
     "input": [
      "# factorial.py\n",
      "#    Program to compute the factorial of a number\n",
      "#    Illustrates for loop with an accumulator\n",
      "\n",
      "def factorial():\n",
      "    n = input(\"Please enter a whole number: \")\n",
      "    fact = 1\n",
      "    for factor in range(n,1,-1): \n",
      "       fact = fact * factor\n",
      "    print \"The factorial of\", n, \"is\", fact\n",
      "\n",
      "factorial()"
     ],
     "language": "python",
     "metadata": {},
     "outputs": [
      {
       "name": "stdout",
       "output_type": "stream",
       "stream": "stdout",
       "text": [
        "Please enter a whole number: 7\n"
       ]
      },
      {
       "output_type": "stream",
       "stream": "stdout",
       "text": [
        "The factorial of 7 is 5040\n"
       ]
      }
     ],
     "prompt_number": 1
    }
   ],
   "metadata": {}
  }
 ]
}