{
 "cells": [
  {
   "cell_type": "markdown",
   "metadata": {},
   "source": [
    "# isOdd version 1.0"
   ]
  },
  {
   "cell_type": "code",
   "execution_count": null,
   "metadata": {
    "collapsed": false
   },
   "outputs": [],
   "source": [
    " def isOdd():\n",
    "    \n",
    "    print \"This function will print a 0 if your number is even and a 1 if your number is odd.\"\n",
    "    print \"Note: this program does not handle 0's properly.\"\n",
    "    check = input(\"What number would you like to check? :\")\n",
    "    output = check%2\n",
    "    print output\n",
    "isOdd()\n"
   ]
  },
  {
   "cell_type": "markdown",
   "metadata": {},
   "source": [
    "# Conditions - back to temperature"
   ]
  },
  {
   "cell_type": "code",
   "execution_count": null,
   "metadata": {
    "collapsed": false
   },
   "outputs": [],
   "source": [
    "## Convert2.py\n",
    "\n",
    "def temps():\n",
    "    celsius = input(\"What is the Celsius temperature? \")\n",
    "    fahrenheit = 9.0 / 5.0 * celsius + 32\n",
    "    print \"Temperature is\", fahrenheit, \"degrees fahrenheit.\"\n",
    "    if fahrenheit >= 90:\n",
    "        print \"It's really hot out there, be careful!\"\n",
    "    if fahrenheit <= 30:\n",
    "        print \"Brrrrr. Be sure to dress warmly\"\n",
    "\n",
    "temps()\n"
   ]
  },
  {
   "cell_type": "markdown",
   "metadata": {},
   "source": [
    "# Two-Way Decisions (isOdd)"
   ]
  },
  {
   "cell_type": "code",
   "execution_count": null,
   "metadata": {
    "collapsed": false
   },
   "outputs": [],
   "source": [
    " ## is odd, v2.0\n",
    "def isOdd():\n",
    "    \n",
    "    print \"This function will print a 0 if your number is even and a 1 if your number is odd.\"\n",
    "    print \"Note: this program does not handle 0's properly.\"\n",
    "    check = input(\"What number would you like to check?: \")\n",
    "    output = check%2\n",
    "    if output == 1:\n",
    "        print \"Your number is odd.\"\n",
    "    else:\n",
    "        print \"Your number is even.\"\n",
    "    \n",
    "isOdd()"
   ]
  },
  {
   "cell_type": "markdown",
   "metadata": {},
   "source": [
    "# Multi-Way Decisions (isOdd)"
   ]
  },
  {
   "cell_type": "code",
   "execution_count": null,
   "metadata": {
    "collapsed": false
   },
   "outputs": [],
   "source": [
    "## isOdd, v3.0\n",
    "def isOdd():\n",
    "    \n",
    "    print \"This function will tell you if your number is even or if it is odd.\"\n",
    "    print \"It will handle 0 differently.\"\n",
    "    check = input(\"What number would you like to check?: \")\n",
    "    output = check%2\n",
    "    if check == 0:\n",
    "        print \"Your number is zero.\"\n",
    "    elif output == 1:\n",
    "        print \"Your number is odd\"\n",
    "    else:\n",
    "        print \"Your number is even.\"\n",
    "    \n",
    "isOdd()"
   ]
  },
  {
   "cell_type": "markdown",
   "metadata": {},
   "source": [
    "# Exception Handling"
   ]
  },
  {
   "cell_type": "code",
   "execution_count": null,
   "metadata": {
    "collapsed": false
   },
   "outputs": [],
   "source": [
    "##  isOdd, v 4.0\n",
    "## This version handles exceptions\n",
    "def isOdd():\n",
    "    \n",
    "    print \"This function will print a 0 if your number is even and a 1 if your number is odd.\"\n",
    "    try:\n",
    "        check = input(\"What number would you like to check?: \")\n",
    "        output = check%2\n",
    "        if check == 0:\n",
    "            print \"Your number is zero.\"\n",
    "        elif output == 1:\n",
    "            print \"Your number is odd\"\n",
    "        else:\n",
    "            print \"Your number is even.\"\n",
    "    except NameError:\n",
    "        print \"You must enter a number, not a word.  Try again!\"\n",
    "    \n",
    "isOdd()"
   ]
  },
  {
   "cell_type": "markdown",
   "metadata": {},
   "source": [
    "# Multi-way Decisions (House or Senate)\n",
    "###We will probably not have time to get to this, but in case you want to see code that I wrote for this problem:"
   ]
  },
  {
   "cell_type": "code",
   "execution_count": null,
   "metadata": {
    "collapsed": false
   },
   "outputs": [],
   "source": [
    "##eligible v1.0\n",
    "def eligible():\n",
    "    job = raw_input(\"Would you like to me a member of the Senate or the House?: \")\n",
    "    job = job.lower()\n",
    "    age = input(\"How old are you?: \")\n",
    "    citizen = input(\"How many years have you been a citizen of the United States?: \")\n",
    "    if job == \"senate\":\n",
    "        if age >= 30:\n",
    "            if citizen >= 9:\n",
    "                print \"You are eligible to be a Senator!\"\\\n",
    "                      \"If for some reason you want to be a Senator.\"\n",
    "            else:\n",
    "                print\"You are ineligible to be a Senator -\"\n",
    "                \"you must be citizen for 9 years.\"\n",
    "        else:\n",
    "            print \"You can't be Senator - you are too young.\"\\\n",
    "                \n",
    "    elif job == \"house\":\n",
    "        if age >= 25:\n",
    "            if citizen >= 7:\n",
    "                print \"You are eligible to be a member of the House! \" \\\n",
    "                  \"Although why you would want to be is anyone's guess.\"\n",
    "            else:\n",
    "                print \"You are ineligible to be a member of the House -\"\n",
    "                \"You must be a citizen for 7 years.\"\n",
    "        else:\n",
    "            print \"You are ineligible to be a member of the House - \"\\\n",
    "            \"You are too young.  I know, they act like chidren, but they\"\n",
    "            \" are technically all over the age of 25.\"\n",
    "    else:\n",
    "        print \"That's not a job - try again!\"\n",
    "eligible()\n"
   ]
  }
 ],
 "metadata": {
  "kernelspec": {
   "display_name": "Python 2",
   "language": "python",
   "name": "python2"
  },
  "language_info": {
   "codemirror_mode": {
    "name": "ipython",
    "version": 2
   },
   "file_extension": ".py",
   "mimetype": "text/x-python",
   "name": "python",
   "nbconvert_exporter": "python",
   "pygments_lexer": "ipython2",
   "version": "2.7.7"
  }
 },
 "nbformat": 4,
 "nbformat_minor": 0
}
