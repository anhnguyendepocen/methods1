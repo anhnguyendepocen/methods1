{
 "cells": [
  {
   "cell_type": "markdown",
   "metadata": {},
   "source": [
    "### String Processing:  Basics"
   ]
  },
  {
   "cell_type": "code",
   "execution_count": 5,
   "metadata": {
    "collapsed": false
   },
   "outputs": [
    {
     "name": "stdout",
     "output_type": "stream",
     "text": [
      "hello!\n",
      "this is in apostrophes\n",
      "<type 'str'>\n",
      "Enter your name:\"Rachel\"\n",
      "Rachel\n"
     ]
    }
   ],
   "source": [
    "str1 = \"hello!\"\n",
    "print str1\n",
    "str2 = 'this is in apostrophes'\n",
    "print str2\n",
    "print type(str2)\n",
    "\n",
    "firstName = input(\"Enter your name:\")\n",
    "print firstName\n",
    "\n",
    "\n",
    "#greet = \"Hello Bob\"\n",
    "#print greet[0]"
   ]
  },
  {
   "cell_type": "markdown",
   "metadata": {},
   "source": [
    "### Practice Problems"
   ]
  },
  {
   "cell_type": "markdown",
   "metadata": {},
   "source": [
    "#### Usernames"
   ]
  },
  {
   "cell_type": "code",
   "execution_count": 6,
   "metadata": {
    "collapsed": false
   },
   "outputs": [
    {
     "name": "stdout",
     "output_type": "stream",
     "text": [
      "Enter your first name: rachel\n",
      "Enter your last name: rakov\n",
      "Your username is rrakov\n",
      "There are 6 characters in your username     and that's good enough for me.\n"
     ]
    }
   ],
   "source": [
    "##Usernames v 1.0\n",
    "def usernames():\n",
    "    first = raw_input('Enter your first name: ')\n",
    "    last = raw_input ('Enter your last name: ')\n",
    "    uname = first[0]+last[:8]\n",
    "    x = len(uname)\n",
    "    print \"Your username is %s\" %(uname)\n",
    "    print \"There are %d characters in your username \\\n",
    "    and that's good enough for me.\"%(x)\n",
    "usernames()"
   ]
  },
  {
   "cell_type": "markdown",
   "metadata": {},
   "source": [
    "#### Months"
   ]
  },
  {
   "cell_type": "code",
   "execution_count": 7,
   "metadata": {
    "collapsed": false
   },
   "outputs": [
    {
     "name": "stdout",
     "output_type": "stream",
     "text": [
      "Enter a month number (1-12): 4\n",
      "The month abbreviation is Apr.\n"
     ]
    }
   ],
   "source": [
    "def month():\n",
    "#  A program to print abbreviation of a month, given its number\n",
    "\n",
    "    # months is used as a lookup table\n",
    "    months = \"JanFebMarAprMayJunJulAugSepOctNovDec\"\n",
    "\n",
    "    n = input(\"Enter a month number (1-12): \")\n",
    "\n",
    "    # compute starting position of month n in months\n",
    "    pos = (n-1) * 3\n",
    "    \n",
    "    # Grab the appropriate slice from months\n",
    "    monthAbbrev = months[pos:pos+3]\n",
    "\n",
    "    # print the result    \n",
    "    print \"The month abbreviation is\", monthAbbrev + \".\"\n",
    "\n",
    "month()\n"
   ]
  },
  {
   "cell_type": "code",
   "execution_count": 9,
   "metadata": {
    "collapsed": false
   },
   "outputs": [
    {
     "name": "stdout",
     "output_type": "stream",
     "text": [
      "Enter a month number (1-12): 9\n",
      "The month abbreviation is Sept.\n"
     ]
    }
   ],
   "source": [
    "def month2():\n",
    "    \n",
    "    # months is a list used as a lookup table\n",
    "    months = [\"Jan\", \"Feb\", \"Mar\", \"Apr\", \"May\", \"Jun\",\n",
    "              \"Jul\", \"Aug\", \"Sept\", \"Oct\", \"Nov\", \"Dec\"]\n",
    "    \n",
    "    n = input(\"Enter a month number (1-12): \")\n",
    "\n",
    "    print \"The month abbreviation is\", months[n-1] + \".\"\n",
    "\n",
    "month2()\n"
   ]
  },
  {
   "cell_type": "markdown",
   "metadata": {},
   "source": [
    "### List Examples"
   ]
  },
  {
   "cell_type": "code",
   "execution_count": 11,
   "metadata": {
    "collapsed": false
   },
   "outputs": [
    {
     "name": "stdout",
     "output_type": "stream",
     "text": [
      "['Now', 'is', 'the', 'winter', 'of', 'our', 'discontent']\n",
      "Now is the winter of our discontent\n"
     ]
    }
   ],
   "source": [
    "s = \"Now is the winter of our discontent\"\n",
    "#x = list(s)\n",
    "\n",
    "x = s.split()\n",
    "print x\n",
    "\n",
    "string = \" \".join(x)\n",
    "print string"
   ]
  },
  {
   "cell_type": "markdown",
   "metadata": {},
   "source": [
    "### More Months Practice!"
   ]
  },
  {
   "cell_type": "code",
   "execution_count": null,
   "metadata": {
    "collapsed": false
   },
   "outputs": [],
   "source": [
    "def DateManip():\n",
    "    datestr = raw_input(\"Enter a date in the format mm/dd/yyyy:\")\n",
    "    date = datestr.split(\"/\")\n",
    "    month = int(date[0])\n",
    "    day = date[1]\n",
    "    year = date[2]\n",
    "    months = [\"January\", \"February\", \"March\", \"April\", \"May\", \"June\",\n",
    "              \"July\", \"August\", \"September\", \"October\", \"November\", \"December\"]    \n",
    "    month_check = month-1\n",
    "    monthstr = months[month_check]\n",
    "\n",
    "    print \"Your date is\", monthstr, day+\",\", year\n",
    "#DateManip()"
   ]
  },
  {
   "cell_type": "markdown",
   "metadata": {},
   "source": []
  },
  {
   "cell_type": "code",
   "execution_count": null,
   "metadata": {
    "collapsed": false
   },
   "outputs": [],
   "source": [
    "\n"
   ]
  },
  {
   "cell_type": "markdown",
   "metadata": {},
   "source": []
  },
  {
   "cell_type": "code",
   "execution_count": null,
   "metadata": {
    "collapsed": false
   },
   "outputs": [],
   "source": [
    "\n"
   ]
  }
 ],
 "metadata": {
  "kernelspec": {
   "display_name": "Python 2",
   "language": "python",
   "name": "python2"
  },
  "language_info": {
   "codemirror_mode": {
    "name": "ipython",
    "version": 2
   },
   "file_extension": ".py",
   "mimetype": "text/x-python",
   "name": "python",
   "nbconvert_exporter": "python",
   "pygments_lexer": "ipython2",
   "version": "2.7.7"
  }
 },
 "nbformat": 4,
 "nbformat_minor": 0
}
