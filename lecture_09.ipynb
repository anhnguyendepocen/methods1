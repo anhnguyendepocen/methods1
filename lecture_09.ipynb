{
 "cells": [
  {
   "cell_type": "markdown",
   "metadata": {},
   "source": [
    "# Statistics with Lists!"
   ]
  },
  {
   "cell_type": "code",
   "execution_count": null,
   "metadata": {
    "collapsed": true
   },
   "outputs": [],
   "source": [
    "import math\n",
    "\n",
    "from scipy import stats\n",
    "import scipy\n",
    "\n",
    "import string\n",
    "def getNumbers():\n",
    "    nums = []     # start with an empty list\n",
    "\n",
    "    # sentinel loop to get numbers\n",
    "    xStr = raw_input(\"Enter a number (<Enter> to quit): \")\n",
    "    while xStr != \"\":\n",
    "        x = int(xStr)\n",
    "        nums.append(x)   # add this value to the list\n",
    "        xStr = raw_input(\"Enter a number (<Enter> to quit: \")\n",
    "    return nums\n"
   ]
  },
  {
   "cell_type": "code",
   "execution_count": null,
   "metadata": {
    "collapsed": true
   },
   "outputs": [],
   "source": [
    "def mean(nums):\n",
    "    summ = 0.0\n",
    "    for num in nums:\n",
    "        summ = summ + num\n",
    "    return summ / len(nums)"
   ]
  },
  {
   "cell_type": "code",
   "execution_count": null,
   "metadata": {
    "collapsed": true
   },
   "outputs": [],
   "source": [
    "def stdDev(nums, xbar):\n",
    "    sumDevSq = 0.0\n",
    "    for num in nums:\n",
    "        dev = xbar - num\n",
    "        sumDevSq = sumDevSq+dev**2\n",
    "##        sumDevSq = sumDevSq + dev * dev\n",
    "    return math.sqrt(sumDevSq/(len(nums)-1))\n",
    "\n"
   ]
  },
  {
   "cell_type": "code",
   "execution_count": null,
   "metadata": {
    "collapsed": true
   },
   "outputs": [],
   "source": [
    "def median(nums):\n",
    "    nums.sort()\n",
    "    size = len(nums)\n",
    "    midPos = size / 2\n",
    "    if size % 2 == 0:\n",
    "        median = (nums[midPos] + nums[midPos-1]) / 2.0\n",
    "    else:\n",
    "        median = nums[midPos]\n",
    "    return median"
   ]
  },
  {
   "cell_type": "code",
   "execution_count": null,
   "metadata": {
    "collapsed": false
   },
   "outputs": [],
   "source": [
    "\n",
    "def main():\n",
    "    data = getNumbers()\n",
    "    #data = [2,4,6,9,13]\n",
    "    xbar = mean(data)\n",
    "    std = stdDev(data, xbar)\n",
    "\n",
    "##    std = scipy.stats.tstd(data)\n",
    "##    print std\n",
    "    med = median(data)\n",
    "    print \"The mean of this set is numbers is %.2f, the std is %.2f,\"\\\n",
    "    \"and the median is %.2f\" %(xbar, std, med)\n",
    "##    \n",
    "##\n",
    "##    \n",
    "##\n",
    "main()\n"
   ]
  },
  {
   "cell_type": "markdown",
   "metadata": {},
   "source": [
    "# Practice: Dictionaries"
   ]
  },
  {
   "cell_type": "code",
   "execution_count": null,
   "metadata": {
    "collapsed": false
   },
   "outputs": [],
   "source": [
    "psswrd = {}\n",
    "psswrd[\"cara\"] = \"singing\"\n",
    "psswrd['susana'] = 'batman'\n",
    "psswrd['michele'] = 'purple'\n",
    "\n",
    "print psswrd"
   ]
  },
  {
   "cell_type": "code",
   "execution_count": null,
   "metadata": {
    "collapsed": false
   },
   "outputs": [],
   "source": [
    "print psswrd.keys()\n",
    "print psswrd.values()\n",
    "print psswrd.items()"
   ]
  },
  {
   "cell_type": "markdown",
   "metadata": {},
   "source": [
    "# Practice:  Word Frequency (with Dictionaries!)"
   ]
  },
  {
   "cell_type": "markdown",
   "metadata": {},
   "source": [
    "## To be viewed after practicum"
   ]
  },
  {
   "cell_type": "code",
   "execution_count": null,
   "metadata": {
    "collapsed": false
   },
   "outputs": [],
   "source": [
    "import string\n",
    "\n",
    "def getFile(filename):\n",
    "    infile = open(filename, \"r\")\n",
    "    text = infile.read()\n",
    "    infile.close()\n",
    "    return text\n",
    "\n",
    "def wordCount():\n",
    "    filename = \"c:/Python27/Methods_1/book_34.txt\"\n",
    "    text = getFile(filename)\n",
    "    text = text.lower()\n",
    "    punc_list = [\".\", \"?\", \"-\", \"!\", '\"', \"'\", \"$\", \";\", \":\",\",\", \"(\", \")\",\n",
    "                 \"\\x92\", \"\\x93\", \"\\x94\"]\n",
    "    ## replace punctuations with a space\n",
    "    for char in punc_list:\n",
    "        text = string.replace(text, char, \" \")\n",
    "               \n",
    "    words = text.split()\n",
    "    ##print words[400:500]\n",
    "\n",
    "    counts = {}\n",
    "    for w in words:\n",
    "        if counts.has_key(w):\n",
    "            counts[w] = counts[w] + 1\n",
    "        else:\n",
    "            counts[w] = 1\n",
    "\n",
    "    word_freq_list = counts.items()\n",
    "    return word_freq_list\n",
    "\n",
    "def main():\n",
    "    word_freq_list = wordCount()\n",
    "    print word_freq_list[:100]\n",
    "    \n",
    "\n",
    "\n",
    "main()"
   ]
  },
  {
   "cell_type": "markdown",
   "metadata": {},
   "source": [
    "# Practice:  Order Word Count Lists"
   ]
  },
  {
   "cell_type": "code",
   "execution_count": null,
   "metadata": {
    "collapsed": false
   },
   "outputs": [],
   "source": [
    "def Order(items):\n",
    "## Inputs to this function are a list of word frequencies\n",
    "## Outputs a list sorted based on frequency \n",
    "    values = []\n",
    "    ordered_freq = []\n",
    "    for i in range(len(items)):\n",
    "        count = items[i][1]\n",
    "        idx = i\n",
    "        val_tup = (count, idx)\n",
    "        values.append(val_tup)\n",
    "\n",
    "## Sorts by the first item\n",
    "    values.sort()\n",
    "## Reverses the list - most frequent first\n",
    "    values.reverse()\n",
    "    for thing in values:\n",
    "        idx = thing[1]\n",
    "        ordered = items[idx]\n",
    "        ordered_freq.append(ordered)\n",
    "        \n",
    "    return ordered_freq\n",
    "\n",
    "\n",
    "def main():\n",
    "    word_freq_list = wordCount()\n",
    "    final = Order(word_freq_list)\n",
    "    print final[:100]\n",
    "\n",
    "main()"
   ]
  }
 ],
 "metadata": {
  "kernelspec": {
   "display_name": "Python 2",
   "language": "python",
   "name": "python2"
  },
  "language_info": {
   "codemirror_mode": {
    "name": "ipython",
    "version": 2
   },
   "file_extension": ".py",
   "mimetype": "text/x-python",
   "name": "python",
   "nbconvert_exporter": "python",
   "pygments_lexer": "ipython2",
   "version": "2.7.7"
  }
 },
 "nbformat": 4,
 "nbformat_minor": 0
}
