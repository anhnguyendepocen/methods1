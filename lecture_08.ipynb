{
 "cells": [
  {
   "cell_type": "markdown",
   "metadata": {},
   "source": [
    "# Averaging Numbers, Many Times"
   ]
  },
  {
   "cell_type": "code",
   "execution_count": null,
   "metadata": {
    "collapsed": false
   },
   "outputs": [],
   "source": [
    "# average1.py\n",
    "#    A program to average a set of numbers\n",
    "#    Illustrates counted loop with accumulator\n",
    "\n",
    "def avg():\n",
    "    n = input(\"How many numbers do you have? \")\n",
    "    sum = 0.0\n",
    "    for i in range(n):\n",
    "        x = input(\"Enter a number >> \")\n",
    "        sum = sum + x\n",
    "    print \"\\nThe average of the numbers is\", sum / n\n",
    "\n",
    "avg()"
   ]
  },
  {
   "cell_type": "code",
   "execution_count": null,
   "metadata": {
    "collapsed": false
   },
   "outputs": [],
   "source": [
    "# average2.py\n",
    "#    A program to average a set of numbers\n",
    "#    Illustrates interactive loop with two accumulators\n",
    "\n",
    "def avg():\n",
    "    moredata = \"yes\"\n",
    "    sum = 0.0\n",
    "    count = 0\n",
    "    while moredata[0] == 'y':\n",
    "        x = input(\"Enter a number to average >> \")\n",
    "        sum = sum + x\n",
    "        count = count + 1\n",
    "        moredata = raw_input(\"Do you have more numbers (yes or no)? \")\n",
    "    print \"\\nThe average of the numbers is\", sum / count\n",
    "\n",
    "avg()"
   ]
  },
  {
   "cell_type": "code",
   "execution_count": null,
   "metadata": {
    "collapsed": false
   },
   "outputs": [],
   "source": [
    "# average3.py\n",
    "#    A program to average a set of numbers\n",
    "#    Illustrates sentinel loop using negative input as sentinel\n",
    "\n",
    "def avg():\n",
    "    sum = 0.0\n",
    "    count = 0\n",
    "    x = input(\"Enter a number (negative to quit) >> \")\n",
    "    while x >= 0:\n",
    "        sum = sum + x\n",
    "        count = count + 1\n",
    "        x = input(\"Enter a number (negative to quit) >> \")\n",
    "    print \"\\nThe average of the numbers is\", sum / count\n",
    "avg()"
   ]
  },
  {
   "cell_type": "code",
   "execution_count": null,
   "metadata": {
    "collapsed": false
   },
   "outputs": [],
   "source": [
    "# average4.py\n",
    "#    A program to average a set of numbers\n",
    "#    Illustrates sentinel loop using empty string as sentinel\n",
    "\n",
    "def avg():\n",
    "    sum = 0.0\n",
    "    count = 0\n",
    "    xStr = raw_input(\"Enter a number (<Enter> to quit) >> \")\n",
    "    while xStr != \"\":\n",
    "        x = eval(xStr)\n",
    "        sum = sum + x\n",
    "        count = count + 1\n",
    "        xStr = raw_input(\"Enter a number (<Enter> to quit) >> \")\n",
    "    print \"\\nThe average of the numbers is\", sum / count\n",
    "avg()\n"
   ]
  },
  {
   "cell_type": "markdown",
   "metadata": {},
   "source": [
    "# Practice: sumOdd"
   ]
  },
  {
   "cell_type": "code",
   "execution_count": null,
   "metadata": {
    "collapsed": false
   },
   "outputs": [],
   "source": [
    "def isOdd(num):\n",
    "    check = int(num) % 2\n",
    "##    print check\n",
    "    if check == 1:\n",
    "        return 1\n",
    "    if check == 0:\n",
    "        return 0\n",
    "\n",
    "\n",
    "def sumOdd():\n",
    "    odd_count = 0\n",
    "    num_list = [1,2,3,4,5,6,7,8,9,10,11,12,13,14,15]\n",
    "    for item in num_list:\n",
    "        check = isOdd(item)\n",
    "        if check == 1:\n",
    "            odd_count = odd_count + item\n",
    "        else:\n",
    "            pass\n",
    "    print odd_count\n",
    "\n",
    "sumOdd()"
   ]
  },
  {
   "cell_type": "code",
   "execution_count": null,
   "metadata": {
    "collapsed": false
   },
   "outputs": [],
   "source": [
    "##sumOdd 2.0 --> only sum single digit odd numbers\n",
    "\n",
    "def isOdd(num):\n",
    "    check = int(num) % 2\n",
    "    if check == 1:\n",
    "        return True\n",
    "    if check == 0:\n",
    "        return False\n",
    "\n",
    "\n",
    "def sumOdd():\n",
    "    odd_count = 0\n",
    "    num_list = [1,2,3,4,5,6,7,8,9,10,11,12,13,14,15]\n",
    "    for item in num_list:\n",
    "        check = isOdd(item)\n",
    "        if check == True and item < 10:\n",
    "            odd_count = odd_count + item\n",
    "        else:\n",
    "            pass\n",
    "    print odd_count\n",
    "\n",
    "sumOdd()"
   ]
  }
 ],
 "metadata": {
  "kernelspec": {
   "display_name": "Python 2",
   "language": "python",
   "name": "python2"
  },
  "language_info": {
   "codemirror_mode": {
    "name": "ipython",
    "version": 2
   },
   "file_extension": ".py",
   "mimetype": "text/x-python",
   "name": "python",
   "nbconvert_exporter": "python",
   "pygments_lexer": "ipython2",
   "version": "2.7.7"
  }
 },
 "nbformat": 4,
 "nbformat_minor": 0
}
