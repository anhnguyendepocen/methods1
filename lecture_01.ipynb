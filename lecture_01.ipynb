{
 "metadata": {
  "name": "",
  "signature": "sha256:706f0496b59e521a2e0c53f251eb1a7e56fd69fe50d1834891ba3b37066be723"
 },
 "nbformat": 3,
 "nbformat_minor": 0,
 "worksheets": [
  {
   "cells": [
    {
     "cell_type": "heading",
     "level": 4,
     "metadata": {},
     "source": [
      "Python: First Look"
     ]
    },
    {
     "cell_type": "code",
     "collapsed": false,
     "input": [
      "#print \"Hello, world\"\n",
      "print 2+3\n",
      "print \"2+3=\", 2+3"
     ],
     "language": "python",
     "metadata": {},
     "outputs": [
      {
       "output_type": "stream",
       "stream": "stdout",
       "text": [
        "5\n",
        "2+3= 5\n"
       ]
      }
     ],
     "prompt_number": 12
    },
    {
     "cell_type": "heading",
     "level": 4,
     "metadata": {},
     "source": [
      "Quick Look:  Functions"
     ]
    },
    {
     "cell_type": "code",
     "collapsed": false,
     "input": [
      "def hello():\n",
      "    print \"Hello\"\n",
      "    print \"Computers are fun\"\n",
      "    print \"Oh hey it worked!!!\""
     ],
     "language": "python",
     "metadata": {},
     "outputs": [],
     "prompt_number": 17
    },
    {
     "cell_type": "code",
     "collapsed": false,
     "input": [
      "hello()"
     ],
     "language": "python",
     "metadata": {},
     "outputs": [
      {
       "output_type": "stream",
       "stream": "stdout",
       "text": [
        "Hello\n",
        "Computers are fun\n",
        "Oh hey it worked!!!\n"
       ]
      }
     ],
     "prompt_number": 18
    },
    {
     "cell_type": "code",
     "collapsed": false,
     "input": [
      "def greet(person):\n",
      "    print \"Hello\", person\n",
      "    print \"How are you?\""
     ],
     "language": "python",
     "metadata": {},
     "outputs": [],
     "prompt_number": 19
    },
    {
     "cell_type": "code",
     "collapsed": false,
     "input": [
      "greet(\"Terry\")\n",
      "greet(\"Paula\")"
     ],
     "language": "python",
     "metadata": {},
     "outputs": [
      {
       "output_type": "stream",
       "stream": "stdout",
       "text": [
        "Hello Terry\n",
        "How are you?\n",
        "Hello Paula\n",
        "How are you?\n"
       ]
      }
     ],
     "prompt_number": 20
    },
    {
     "cell_type": "heading",
     "level": 4,
     "metadata": {},
     "source": [
      "Practice: Add Two"
     ]
    },
    {
     "cell_type": "code",
     "collapsed": false,
     "input": [
      "##Practice Problem: Add Two\n",
      "## A simple program that adds two to a number 10 times\n",
      "def main():\n",
      "    print \"This program will add two to an input number ten times.\"\n",
      "    x = input(\"Enter a number: \")\n",
      "    for i in range(10):\n",
      "        x = x + 2\n",
      "        print x\n",
      "\n",
      "main()\n"
     ],
     "language": "python",
     "metadata": {},
     "outputs": [
      {
       "output_type": "stream",
       "stream": "stdout",
       "text": [
        "This program will add two to an input number ten times.\n"
       ]
      },
      {
       "name": "stdout",
       "output_type": "stream",
       "stream": "stdout",
       "text": [
        "Enter a number: 2\n"
       ]
      },
      {
       "output_type": "stream",
       "stream": "stdout",
       "text": [
        "4\n",
        "6\n",
        "8\n",
        "10\n",
        "12\n",
        "14\n",
        "16\n",
        "18\n",
        "20\n",
        "22\n"
       ]
      }
     ],
     "prompt_number": 25
    },
    {
     "cell_type": "code",
     "collapsed": false,
     "input": [
      "print x\n"
     ],
     "language": "python",
     "metadata": {},
     "outputs": [
      {
       "ename": "NameError",
       "evalue": "name 'x' is not defined",
       "output_type": "pyerr",
       "traceback": [
        "\u001b[1;31m---------------------------------------------------------------------------\u001b[0m\n\u001b[1;31mNameError\u001b[0m                                 Traceback (most recent call last)",
        "\u001b[1;32m<ipython-input-23-2d264e11d975>\u001b[0m in \u001b[0;36m<module>\u001b[1;34m()\u001b[0m\n\u001b[1;32m----> 1\u001b[1;33m \u001b[1;32mprint\u001b[0m \u001b[0mx\u001b[0m\u001b[1;33m\u001b[0m\u001b[0m\n\u001b[0m",
        "\u001b[1;31mNameError\u001b[0m: name 'x' is not defined"
       ]
      }
     ],
     "prompt_number": 23
    }
   ],
   "metadata": {}
  }
 ]
}