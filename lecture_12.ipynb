{
 "cells": [
  {
   "cell_type": "markdown",
   "metadata": {},
   "source": [
    "# Simple Search"
   ]
  },
  {
   "cell_type": "code",
   "execution_count": null,
   "metadata": {
    "collapsed": false
   },
   "outputs": [],
   "source": [
    "def search(x, nums):\n",
    "    try:\n",
    "        return nums.index(x)\n",
    "    except:\n",
    "        return -1\n",
    "\n",
    "#See it in action!    \n",
    "checklist = [3, 9, 6, 2, 10, 30, 18, 7, 8]\n",
    "print search(9, checklist)"
   ]
  },
  {
   "cell_type": "markdown",
   "metadata": {},
   "source": [
    "# Linear Search"
   ]
  },
  {
   "cell_type": "code",
   "execution_count": null,
   "metadata": {
    "collapsed": false
   },
   "outputs": [],
   "source": [
    "def search(x, nums):\n",
    "    for i in range(len(nums)):\n",
    "        if nums[i] == x:\n",
    "            return i       # found! return index\n",
    "    return -1\n",
    "\n",
    "\n",
    "#See it in action!\n",
    "checklist = [3,9,6, 2, 10, 30, 18, 7, 8]\n",
    "print search(9, checklist)"
   ]
  },
  {
   "cell_type": "markdown",
   "metadata": {},
   "source": [
    "# Binary Search (Non-Recursive)"
   ]
  },
  {
   "cell_type": "code",
   "execution_count": null,
   "metadata": {
    "collapsed": false
   },
   "outputs": [],
   "source": [
    "def search(x, nums):\n",
    "    low = 0\n",
    "    high = len(nums) - 1\n",
    "    while low <= high:       # Still more to search\n",
    "        mid = (low + high)/2 # Position of middle item\n",
    "        item = nums[mid]\n",
    "        if x == item:        # Found it! Return the index\n",
    "            return mid\n",
    "        elif x < item:       # x is in lower half of range\n",
    "            high = mid - 1   #  move top marker down\n",
    "        else:                # x is in upper half of range\n",
    "            low = mid + 1    #  move bottom marker up\n",
    "    return -1\n",
    "\n",
    "\n",
    "## See it in action!\n",
    "##NB:  Don't forget that the list must be SORTED\n",
    "checklist = [3,9,6, 2, 10, 30, 18, 7, 8]\n",
    "checklist.sort()\n",
    "print checklist\n",
    "print search(9, checklist)\n"
   ]
  },
  {
   "cell_type": "markdown",
   "metadata": {},
   "source": [
    "# Recursive Definitions"
   ]
  },
  {
   "cell_type": "markdown",
   "metadata": {},
   "source": [
    "## Example: Factorial"
   ]
  },
  {
   "cell_type": "code",
   "execution_count": null,
   "metadata": {
    "collapsed": false
   },
   "outputs": [],
   "source": [
    "def fact(n):\n",
    "    if n == 0:\n",
    "         return 1\n",
    "    else:\n",
    "         return n* fact(n-1)\n",
    "\n",
    "print fact(4)"
   ]
  },
  {
   "cell_type": "markdown",
   "metadata": {},
   "source": [
    "## Example: String Reversal"
   ]
  },
  {
   "cell_type": "code",
   "execution_count": null,
   "metadata": {
    "collapsed": false
   },
   "outputs": [],
   "source": [
    "def reverse(s):\n",
    "    if s == \"\":\n",
    "        return s\n",
    "    else:\n",
    "         return reverse(s[1:])+s[0]\n",
    "        \n",
    "print reverse(\"hello\")\n",
    "print reverse(\"evian\")\n",
    "print reverse(\"toohottohoot\")\n",
    "print reverse(\"tacocat\")"
   ]
  },
  {
   "cell_type": "markdown",
   "metadata": {},
   "source": [
    "# Binary Search (Recursive)"
   ]
  },
  {
   "cell_type": "code",
   "execution_count": null,
   "metadata": {
    "collapsed": false
   },
   "outputs": [],
   "source": [
    "def recBinSearch(x, nums, low, high):\n",
    "    #### must be ordered!  Don't forget!######\n",
    "\n",
    "    if low > high:  # No more to look, return -1\n",
    "        return -1\n",
    "    mid = (low + high)/2\n",
    "    item = nums[mid]\n",
    "    if item == x:\n",
    "        return mid      #returns INDEX of the number\n",
    "    elif x < item:          # Look in lower half\n",
    "        return recBinSearch(x, nums, low, mid-1)\n",
    "    else:                   # Look in upper half\n",
    "        return recBinSearch(x, nums, mid+1, high)\n",
    "\n",
    "\n",
    "def search(x, nums):\n",
    "    return recBinSearch(x, nums, 0, len(nums)-1)\n",
    "\n",
    "checklist = [3,9,6, 2, 10, 30, 18, 7, 8]\n",
    "checklist.sort()\n",
    "print checklist\n",
    "print search(9, checklist)"
   ]
  }
 ],
 "metadata": {
  "kernelspec": {
   "display_name": "Python 2",
   "language": "python",
   "name": "python2"
  },
  "language_info": {
   "codemirror_mode": {
    "name": "ipython",
    "version": 2
   },
   "file_extension": ".py",
   "mimetype": "text/x-python",
   "name": "python",
   "nbconvert_exporter": "python",
   "pygments_lexer": "ipython2",
   "version": "2.7.7"
  }
 },
 "nbformat": 4,
 "nbformat_minor": 0
}
