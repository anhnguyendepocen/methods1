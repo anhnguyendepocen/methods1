{
 "cells": [
  {
   "cell_type": "markdown",
   "metadata": {},
   "source": [
    "# Read and Write file practice - Usernames"
   ]
  },
  {
   "cell_type": "code",
   "execution_count": null,
   "metadata": {
    "collapsed": false
   },
   "outputs": [],
   "source": [
    "def batchUnames():\n",
    "    fname = 'c:/Python27/Methods_1/class_list.txt'\n",
    "    infile = open(fname, \"r\")\n",
    "    class_list = infile.readlines()\n",
    "    infile.close()\n",
    "    #print class_list\n",
    "\n",
    "\n",
    "    out_filename = \"c:/Python27/Methods_1/batch_unames.txt\"\n",
    "    outfile = open(out_filename, \"w\")\n",
    "    for item in class_list:\n",
    "        name = item.split()    \n",
    "        first = name[0].lower()\n",
    "        last = name[1].lower()\n",
    "        f= first[0]\n",
    "        l = last[:7]\n",
    "        user = f+l\n",
    "        entry = user+\"\\n\"\n",
    "        outfile.write(entry)\n",
    "\n",
    "    outfile.close()        \n",
    "    print \"Your filename has been written to %s\" %(out_filename)\n",
    "\n",
    "batchUnames()\n"
   ]
  },
  {
   "cell_type": "markdown",
   "metadata": {},
   "source": [
    "# isOdd version 1.0"
   ]
  },
  {
   "cell_type": "code",
   "execution_count": null,
   "metadata": {
    "collapsed": false
   },
   "outputs": [],
   "source": [
    " def isOdd():\n",
    "    \n",
    "    print \"This function will print a 0 if your number is even and a 1 if your number is odd.\"\n",
    "    print \"Note: this program does not handle 0's properly.\"\n",
    "    check = input(\"What number would you like to check? :\")\n",
    "    output = check%2\n",
    "    print output\n",
    "isOdd()\n"
   ]
  }
 ],
 "metadata": {
  "kernelspec": {
   "display_name": "Python 2",
   "language": "python",
   "name": "python2"
  },
  "language_info": {
   "codemirror_mode": {
    "name": "ipython",
    "version": 2
   },
   "file_extension": ".py",
   "mimetype": "text/x-python",
   "name": "python",
   "nbconvert_exporter": "python",
   "pygments_lexer": "ipython2",
   "version": "2.7.7"
  }
 },
 "nbformat": 4,
 "nbformat_minor": 0
}
